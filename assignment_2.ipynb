{
 "cells": [
  {
   "cell_type": "markdown",
   "id": "3a68554b-4fe6-411c-9859-b3c19030a3b3",
   "metadata": {},
   "source": [
    "### Assignment 2 : RNA-Seq Data Analysis\n",
    "Task : Analyze a provided RNA-Seq dataset and perform differential gene expression analysis.\n",
    "\n",
    "Deliverable : A detailed report presenting the differentially expressed genes, their functional annotations, and any potential biological interpretations.."
   ]
  },
  {
   "cell_type": "markdown",
   "id": "d93051bf-13df-4c47-9b0f-46dbb8ac957a",
   "metadata": {},
   "source": [
    "#### Importing Libraries"
   ]
  },
  {
   "cell_type": "code",
   "execution_count": 2,
   "id": "ed2b4cf4-a4d2-4951-a2ef-ac25ab980149",
   "metadata": {},
   "outputs": [
    {
     "name": "stderr",
     "output_type": "stream",
     "text": [
      "C:\\Users\\91932\\anaconda3\\lib\\site-packages\\scipy\\__init__.py:146: UserWarning: A NumPy version >=1.16.5 and <1.23.0 is required for this version of SciPy (detected version 1.26.4\n",
      "  warnings.warn(f\"A NumPy version >={np_minversion} and <{np_maxversion}\"\n"
     ]
    }
   ],
   "source": [
    "import pandas as pd\n",
    "import numpy as np\n",
    "from scipy.stats import ttest_ind\n",
    "from statsmodels.stats.multitest import multipletests"
   ]
  },
  {
   "cell_type": "markdown",
   "id": "b3293b72-501a-4810-9539-50ddac074b9c",
   "metadata": {},
   "source": [
    "#### Initializations and Data Creation"
   ]
  },
  {
   "cell_type": "code",
   "execution_count": 3,
   "id": "1f7c7178-a59d-4af0-a7ff-6bf1022d23a6",
   "metadata": {},
   "outputs": [],
   "source": [
    "# Simulated RNA-Seq Data Generation\n",
    "np.random.seed(42)\n",
    "genes = [\"Gene1\", \"Gene2\", \"Gene3\", \"Gene4\"]\n",
    "sample1_counts = np.random.poisson(lam=100, size=10)  # 10 replicates for sample 1\n",
    "sample2_counts = np.random.poisson(lam=80, size=10)  # 10 replicates for sample 2\n",
    "\n",
    "# Create a DataFrame for counts\n",
    "data = pd.DataFrame({\n",
    "    \"Gene\": genes,\n",
    "    \"Sample1_Counts\": [np.random.poisson(lam=100, size=10) for _ in genes],\n",
    "    \"Sample2_Counts\": [np.random.poisson(lam=80, size=10) for _ in genes]\n",
    "})"
   ]
  },
  {
   "cell_type": "markdown",
   "id": "0dede0f5-b7e0-499d-95e8-808e2cf50692",
   "metadata": {},
   "source": [
    "#### Preprocessing and Analysis"
   ]
  },
  {
   "cell_type": "code",
   "execution_count": 4,
   "id": "4b25359d-76a3-412b-8f65-2c5c00261843",
   "metadata": {},
   "outputs": [
    {
     "name": "stdout",
     "output_type": "stream",
     "text": [
      "[0.0005028583189175665, 0.00021927363890914588, 7.417379171784842e-05, 0.0003258469517557184]\n"
     ]
    }
   ],
   "source": [
    "# Calculate mean counts for each gene\n",
    "data[\"Sample1_Mean\"] = [np.mean(counts) for counts in data[\"Sample1_Counts\"]]\n",
    "data[\"Sample2_Mean\"] = [np.mean(counts) for counts in data[\"Sample2_Counts\"]]\n",
    "\n",
    "# Differential Expression Analysis\n",
    "p_values = []\n",
    "for _, row in data.iterrows():\n",
    "    _, p_value = ttest_ind(row[\"Sample1_Counts\"], row[\"Sample2_Counts\"])\n",
    "    p_values.append(p_value)\n",
    "\n",
    "data[\"PValue\"] = p_values\n",
    "print(p_values)\n",
    "\n",
    "# Correct p-values for multiple testing (e.g., using FDR)\n",
    "data[\"AdjPValue\"] = multipletests(data[\"PValue\"], method='fdr_bh')[1]\n",
    "\n",
    "# Identify Differentially Expressed Genes\n",
    "differential_genes = data[data[\"AdjPValue\"] < 0.05]"
   ]
  },
  {
   "cell_type": "markdown",
   "id": "d080fdcd-5893-449d-9a0c-c9fc5c944a18",
   "metadata": {},
   "source": [
    "#### Gene Annotations"
   ]
  },
  {
   "cell_type": "code",
   "execution_count": 5,
   "id": "9cf53024-cc0c-4acf-a51a-f53db103a1ad",
   "metadata": {},
   "outputs": [],
   "source": [
    "# Simulated Gene Ontology terms for demonstration\n",
    "annotations = {\n",
    "    \"Gene1\": \"GO:0001234,GO:5678901\",\n",
    "    \"Gene2\": \"GO:2345678,GO:8901234\",\n",
    "    \"Gene3\": \"GO:1234567\",\n",
    "    \"Gene4\": \"GO:5678901,GO:2345678\"\n",
    "}\n",
    "\n",
    "# Functional Annotation and Biological Interpretation\n",
    "differential_genes[\"GO_Annotations\"] = differential_genes[\"Gene\"].map(annotations)"
   ]
  },
  {
   "cell_type": "markdown",
   "id": "d79b1e29-54fa-4ffa-ad81-97d5baa0b4e4",
   "metadata": {},
   "source": [
    "#### Generating a Report"
   ]
  },
  {
   "cell_type": "code",
   "execution_count": 6,
   "id": "54b496d3-edad-4b2f-a90b-714742eba853",
   "metadata": {},
   "outputs": [
    {
     "name": "stdout",
     "output_type": "stream",
     "text": [
      "Analysis report generated as 'RNA_SEQ_ANALYSIS.txt'.\n"
     ]
    }
   ],
   "source": [
    "report_lines = []\n",
    "report_lines.append(\"RNA-Seq Differential Expression Analysis Report\\n\")\n",
    "report_lines.append(\"=\"*50)\n",
    "report_lines.append(\"Summary of Analysis:\\n\")\n",
    "report_lines.append(\"The analysis was conducted to identify differentially expressed genes between two conditions using RNA-Seq data.\\n\")\n",
    "report_lines.append(\"=\"*50)\n",
    "\n",
    "report_lines.append(\"Differentially Expressed Genes:\\n\")\n",
    "if not differential_genes.empty:\n",
    "    report_lines.append(f\"{'Gene':<10} {'Mean Sample1':>15} {'Mean Sample2':>15} {'Adj. P-Value':>20}\")\n",
    "    report_lines.append(\"=\"*60)\n",
    "    for _, row in differential_genes.iterrows():\n",
    "        report_lines.append(f\"{row['Gene']:<10} {row['Sample1_Mean']:>15.2f} {row['Sample2_Mean']:>15.2f} {row['AdjPValue']:>20.4f}\")\n",
    "else:\n",
    "    report_lines.append(\"No genes were found to be differentially expressed.\\n\")\n",
    "\n",
    "report_lines.append(\"=\"*50)\n",
    "report_lines.append(\"Functional Annotations:\\n\")\n",
    "if not differential_genes.empty:\n",
    "    report_lines.append(f\"{'Gene':<10} {'GO Annotations':<30}\")\n",
    "    report_lines.append(\"=\"*40)\n",
    "    for _, row in differential_genes.iterrows():\n",
    "        go_terms = row[\"GO_Annotations\"] if pd.notna(row[\"GO_Annotations\"]) else \"No annotations available\"\n",
    "        report_lines.append(f\"{row['Gene']:<10} {go_terms:<30}\")\n",
    "else:\n",
    "    report_lines.append(\"No functional annotations available.\\n\")\n",
    "\n",
    "# Save the report to a file\n",
    "with open(\"RNA_SEQ_ANALYSIS.txt\", \"w\") as report_file:\n",
    "    report_file.write(\"\\n\".join(report_lines))\n",
    "\n",
    "print(\"Analysis report generated as 'RNA_SEQ_ANALYSIS.txt'.\")"
   ]
  },
  {
   "cell_type": "code",
   "execution_count": null,
   "id": "aa293234-c0b3-446a-bce2-830199e4471e",
   "metadata": {},
   "outputs": [],
   "source": []
  },
  {
   "cell_type": "code",
   "execution_count": null,
   "id": "4fea4749",
   "metadata": {},
   "outputs": [],
   "source": []
  }
 ],
 "metadata": {
  "kernelspec": {
   "display_name": "Python 3 (ipykernel)",
   "language": "python",
   "name": "python3"
  },
  "language_info": {
   "codemirror_mode": {
    "name": "ipython",
    "version": 3
   },
   "file_extension": ".py",
   "mimetype": "text/x-python",
   "name": "python",
   "nbconvert_exporter": "python",
   "pygments_lexer": "ipython3",
   "version": "3.9.7"
  }
 },
 "nbformat": 4,
 "nbformat_minor": 5
}
