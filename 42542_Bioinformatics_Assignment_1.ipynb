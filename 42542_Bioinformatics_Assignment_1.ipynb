{
 "cells": [
  {
   "cell_type": "markdown",
   "id": "3a68554b-4fe6-411c-9859-b3c19030a3b3",
   "metadata": {},
   "source": [
    "### Assignment 1 : DNA Sequence Analysis. \n",
    "Task : Analyze a given DNA sequence and perform basic sequence \n",
    "manipulation, including finding motifs, calculating GC content, and identifying coding regions\n",
    "\n",
    "Deliverables : A \n",
    "report summarizing the analysis results and any insights gained from the sequence."
   ]
  },
  {
   "cell_type": "markdown",
   "id": "d93051bf-13df-4c47-9b0f-46dbb8ac957a",
   "metadata": {},
   "source": [
    "#### Importing Libraries"
   ]
  },
  {
   "cell_type": "code",
   "execution_count": 1,
   "id": "a9832801",
   "metadata": {},
   "outputs": [
    {
     "name": "stdout",
     "output_type": "stream",
     "text": [
      "Requirement already satisfied: biopython in c:\\users\\91932\\anaconda3\\lib\\site-packages (1.84)\n",
      "Requirement already satisfied: numpy in c:\\users\\91932\\anaconda3\\lib\\site-packages (from biopython) (1.26.4)\n",
      "Note: you may need to restart the kernel to use updated packages.\n"
     ]
    }
   ],
   "source": [
    "pip install biopython\n"
   ]
  },
  {
   "cell_type": "code",
   "execution_count": 2,
   "id": "ed2b4cf4-a4d2-4951-a2ef-ac25ab980149",
   "metadata": {},
   "outputs": [],
   "source": [
    "import Bio\n",
    "from Bio.Seq import Seq\n",
    "from Bio.SeqUtils import gc_fraction"
   ]
  },
  {
   "cell_type": "markdown",
   "id": "b3293b72-501a-4810-9539-50ddac074b9c",
   "metadata": {},
   "source": [
    "#### Initializations and Providing Data Inputs"
   ]
  },
  {
   "cell_type": "code",
   "execution_count": 3,
   "id": "1f7c7178-a59d-4af0-a7ff-6bf1022d23a6",
   "metadata": {},
   "outputs": [],
   "source": [
    "#Providing DNA Sequences\n",
    "dna_sequence = \"AGTCAGTAGACTAGCTAGCTAGCTAGCTAGCTAGCTAGCTAGCTAGCTAGCTAGCTAGCTAGCTAGCTAGCTAGCTAGCTAGCTAGCTA\"\n",
    "\n",
    "#Creating object for Seq\n",
    "seq = Seq(dna_sequence)"
   ]
  },
  {
   "cell_type": "markdown",
   "id": "0dede0f5-b7e0-499d-95e8-808e2cf50692",
   "metadata": {},
   "source": [
    "#### Creating Functions"
   ]
  },
  {
   "cell_type": "code",
   "execution_count": 4,
   "id": "4b25359d-76a3-412b-8f65-2c5c00261843",
   "metadata": {},
   "outputs": [],
   "source": [
    "# Function to find motifs in the sequence\n",
    "def find_motifs(sequence, motif):\n",
    "    positions = [i for i in range(len(sequence) - len(motif) + 1) if sequence[i:i + len(motif)] == motif]\n",
    "    return positions\n",
    "\n",
    "# Function to identify coding regions \n",
    "def identify_coding_regions(sequence):\n",
    "    start_codon = \"ATG\"\n",
    "    stop_codons = [\"TAA\", \"TAG\", \"TGA\"]\n",
    "    coding_regions = []\n",
    "    i = 0\n",
    "\n",
    "    while i < len(sequence):\n",
    "        if sequence[i:i + 3] == start_codon:\n",
    "            start_index = i\n",
    "            i += 3\n",
    "            while i < len(sequence):\n",
    "                if sequence[i:i + 3] in stop_codons:\n",
    "                    stop_index = i + 3\n",
    "                    coding_regions.append((start_index, stop_index))\n",
    "                    break\n",
    "                i += 3\n",
    "        else:\n",
    "            i += 1\n",
    "\n",
    "    return coding_regions"
   ]
  },
  {
   "cell_type": "markdown",
   "id": "d080fdcd-5893-449d-9a0c-c9fc5c944a18",
   "metadata": {},
   "source": [
    "#### Finding Motifs"
   ]
  },
  {
   "cell_type": "code",
   "execution_count": 5,
   "id": "9cf53024-cc0c-4acf-a51a-f53db103a1ad",
   "metadata": {},
   "outputs": [],
   "source": [
    "motif1 = \"AGCTAGCTA\"\n",
    "motif2 = \"CTAGCTAGC\"\n",
    "motif1_positions = find_motifs(seq, motif1)\n",
    "motif2_positions = find_motifs(seq, motif2)"
   ]
  },
  {
   "cell_type": "markdown",
   "id": "d5b92655-b029-4ff4-b308-d26e29d48895",
   "metadata": {},
   "source": [
    "#### GC Content and Coding Regions"
   ]
  },
  {
   "cell_type": "code",
   "execution_count": 6,
   "id": "8d35104d-9a47-4f3b-a7ea-afd7bc979ae0",
   "metadata": {},
   "outputs": [],
   "source": [
    "# Calculating GC content\n",
    "gc_content = gc_fraction(seq)\n",
    "\n",
    "# Identifying coding regions\n",
    "coding_regions = identify_coding_regions(seq)"
   ]
  },
  {
   "cell_type": "markdown",
   "id": "d79b1e29-54fa-4ffa-ad81-97d5baa0b4e4",
   "metadata": {},
   "source": [
    "#### Generating a Report"
   ]
  },
  {
   "cell_type": "code",
   "execution_count": 7,
   "id": "54b496d3-edad-4b2f-a90b-714742eba853",
   "metadata": {},
   "outputs": [
    {
     "name": "stdout",
     "output_type": "stream",
     "text": [
      "Analysis report generated as 'DNA_SEQUENCE_ANALYSIS.txt'.\n"
     ]
    }
   ],
   "source": [
    "report = \"DNA Sequence Analysis Report\\n\\n\"\n",
    "report += f\"Provided DNA Sequence:\\n{seq}\\n\\n\"\n",
    "report += \"Analysis 1: Finding Motifs\\n\"\n",
    "report += f\"Motif 1 ({motif1}) found at positions: {motif1_positions}\\n\"\n",
    "report += f\"Motif 2 ({motif2}) found at positions: {motif2_positions}\\n\\n\"\n",
    "report += \"Analysis 2: Calculating GC Content\\n\"\n",
    "report += f\"GC Content: {gc_content:.2%}\\n\\n\"\n",
    "report += \"Analysis 3: Identifying Coding Regions\\n\"\n",
    "if len(coding_regions) > 0:\n",
    "    report += \"Coding regions found:\\n\"\n",
    "    for start, stop in coding_regions:\n",
    "        report += f\"Start: {start} Stop: {stop}\\n\"\n",
    "else:\n",
    "    report += \"No coding regions found in the sequence.\"\n",
    "\n",
    "\n",
    "\n",
    "\n",
    "with open(\"DNA_SEQUENCE_ANALYSIS.txt\", \"w\") as report_file:\n",
    "    report_file.write(report)\n",
    "\n",
    "\n",
    "\n",
    "print(\"Analysis report generated as 'DNA_SEQUENCE_ANALYSIS.txt'.\")"
   ]
  },
  {
   "cell_type": "code",
   "execution_count": null,
   "id": "aa293234-c0b3-446a-bce2-830199e4471e",
   "metadata": {},
   "outputs": [],
   "source": []
  },
  {
   "cell_type": "code",
   "execution_count": null,
   "id": "e1a4fb25",
   "metadata": {},
   "outputs": [],
   "source": []
  }
 ],
 "metadata": {
  "kernelspec": {
   "display_name": "Python 3 (ipykernel)",
   "language": "python",
   "name": "python3"
  },
  "language_info": {
   "codemirror_mode": {
    "name": "ipython",
    "version": 3
   },
   "file_extension": ".py",
   "mimetype": "text/x-python",
   "name": "python",
   "nbconvert_exporter": "python",
   "pygments_lexer": "ipython3",
   "version": "3.9.7"
  }
 },
 "nbformat": 4,
 "nbformat_minor": 5
}
